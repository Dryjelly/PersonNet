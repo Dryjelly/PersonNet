{
 "cells": [
  {
   "cell_type": "code",
   "execution_count": 29,
   "metadata": {},
   "outputs": [
    {
     "name": "stdout",
     "output_type": "stream",
     "text": [
      "25259 Thumbs.db\n"
     ]
    },
    {
     "ename": "error",
     "evalue": "/home/travis/miniconda/conda-bld/conda_1486587069159/work/opencv-3.1.0/modules/imgcodecs/src/loadsave.cpp:459: error: (-2) could not find a writer for the specified extension in function imwrite_\n",
     "output_type": "error",
     "traceback": [
      "\u001b[0;31m---------------------------------------------------------------------------\u001b[0m",
      "\u001b[0;31merror\u001b[0m                                     Traceback (most recent call last)",
      "\u001b[0;32m<ipython-input-29-8fa46bb2e6d0>\u001b[0m in \u001b[0;36m<module>\u001b[0;34m\u001b[0m\n\u001b[1;32m     28\u001b[0m         \u001b[0;32mtry\u001b[0m \u001b[0;34m:\u001b[0m \u001b[0mimage\u001b[0m \u001b[0;34m=\u001b[0m \u001b[0mcv2\u001b[0m\u001b[0;34m.\u001b[0m\u001b[0mresize\u001b[0m\u001b[0;34m(\u001b[0m\u001b[0mcv2\u001b[0m\u001b[0;34m.\u001b[0m\u001b[0mimread\u001b[0m\u001b[0;34m(\u001b[0m\u001b[0mdir_path\u001b[0m\u001b[0;34m+\u001b[0m\u001b[0;34m'/'\u001b[0m\u001b[0;34m+\u001b[0m\u001b[0mimg_name\u001b[0m\u001b[0;34m,\u001b[0m\u001b[0mcv2\u001b[0m\u001b[0;34m.\u001b[0m\u001b[0mIMREAD_COLOR\u001b[0m\u001b[0;34m)\u001b[0m\u001b[0;34m,\u001b[0m\u001b[0;34m(\u001b[0m\u001b[0mdata_y_size\u001b[0m\u001b[0;34m,\u001b[0m\u001b[0mdata_x_size\u001b[0m\u001b[0;34m)\u001b[0m\u001b[0;34m)\u001b[0m\u001b[0;34m\u001b[0m\u001b[0;34m\u001b[0m\u001b[0m\n\u001b[1;32m     29\u001b[0m         \u001b[0;32mexcept\u001b[0m\u001b[0;34m:\u001b[0m \u001b[0mprint\u001b[0m\u001b[0;34m(\u001b[0m\u001b[0mindex\u001b[0m\u001b[0;34m,\u001b[0m \u001b[0mimg_name\u001b[0m\u001b[0;34m)\u001b[0m\u001b[0;34m\u001b[0m\u001b[0;34m\u001b[0m\u001b[0m\n\u001b[0;32m---> 30\u001b[0;31m         \u001b[0mcv2\u001b[0m\u001b[0;34m.\u001b[0m\u001b[0mimwrite\u001b[0m\u001b[0;34m(\u001b[0m\u001b[0msave_path\u001b[0m\u001b[0;34m+\u001b[0m\u001b[0;34m'/'\u001b[0m\u001b[0;34m+\u001b[0m\u001b[0msaved_name\u001b[0m\u001b[0;34m+\u001b[0m\u001b[0;34m'/'\u001b[0m\u001b[0;34m+\u001b[0m\u001b[0mimg_name\u001b[0m\u001b[0;34m,\u001b[0m \u001b[0mimage\u001b[0m\u001b[0;34m)\u001b[0m\u001b[0;34m\u001b[0m\u001b[0;34m\u001b[0m\u001b[0m\n\u001b[0m\u001b[1;32m     31\u001b[0m \u001b[0;34m\u001b[0m\u001b[0m\n\u001b[1;32m     32\u001b[0m \u001b[0mprint\u001b[0m\u001b[0;34m(\u001b[0m\u001b[0;34m\"총\"\u001b[0m\u001b[0;34m,\u001b[0m\u001b[0mnumber_of_people\u001b[0m\u001b[0;34m,\u001b[0m\u001b[0;34m\"명\"\u001b[0m\u001b[0;34m,\u001b[0m\u001b[0mlist_len\u001b[0m\u001b[0;34m,\u001b[0m\u001b[0;34m\"장 입니다.\"\u001b[0m\u001b[0;34m)\u001b[0m\u001b[0;34m\u001b[0m\u001b[0;34m\u001b[0m\u001b[0m\n",
      "\u001b[0;31merror\u001b[0m: /home/travis/miniconda/conda-bld/conda_1486587069159/work/opencv-3.1.0/modules/imgcodecs/src/loadsave.cpp:459: error: (-2) could not find a writer for the specified extension in function imwrite_\n"
     ]
    }
   ],
   "source": [
    "import os\n",
    "import cv2\n",
    "\n",
    "dir_path = '/home/esdl/tensorflow/Market-1501-v15.09.15/gt_bbox'\n",
    "save_path = '/home/esdl/tensorflow/Campus_dataset'\n",
    "\n",
    "try :\n",
    "    os.mkdir(save_path)\n",
    "    print(save_path, \"folder is created\")\n",
    "except FileExistsError :\n",
    "    print(save_path, \"folder already exists\")\n",
    "\n",
    "data_x_size = 160\n",
    "data_y_size = 160\n",
    "\n",
    "image_list = os.listdir(dir_path)\n",
    "image_list.sort()\n",
    "    \n",
    "list_len = len(image_list)\n",
    "\n",
    "saved_name = ''\n",
    "number_of_people = 0\n",
    "\n",
    "for index, img_name in enumerate(image_list):\n",
    "    if img_name[:4] != saved_name:\n",
    "        saved_name = img_name[:4]\n",
    "        try : os.mkdir(save_path+'/'+saved_name)\n",
    "        except FileExistsError : pass\n",
    "        number_of_people += 1\n",
    "        \n",
    "    if os.path.isfile(save_path+'/'+saved_name+'/'+img_name):\n",
    "        pass\n",
    "    else :\n",
    "        image = cv2.resize(cv2.imread(dir_path+'/'+img_name,cv2.IMREAD_COLOR),(data_y_size,data_x_size))\n",
    "        cv2.imwrite(save_path+'/'+saved_name+'/'+img_name, image)\n",
    "    \n",
    "print(\"총\",number_of_people,\"명\",list_len,\"장 입니다.\")\n",
    "### -------------------------------------------------- ###"
   ]
  },
  {
   "cell_type": "code",
   "execution_count": 15,
   "metadata": {},
   "outputs": [
    {
     "name": "stdout",
     "output_type": "stream",
     "text": [
      "/home/esdl/tensorflow/cuhk03_train folder already exists\n",
      "총 1467 명 14097 장 입니다.\n"
     ]
    }
   ],
   "source": [
    "import os\n",
    "import cv2\n",
    "\n",
    "dir_path = '/home/esdl/tensorflow/cuhk03_release/images/detected'\n",
    "save_path = '/home/esdl/tensorflow/cuhk03_train'\n",
    "\n",
    "try :\n",
    "    os.mkdir(save_path)\n",
    "    print(save_path, \"folder is created\")\n",
    "except FileExistsError :\n",
    "    print(save_path, \"folder already exists\")\n",
    "\n",
    "data_x_size = 160\n",
    "data_y_size = 160\n",
    "\n",
    "image_list = os.listdir(dir_path)\n",
    "image_list.sort()\n",
    "    \n",
    "list_len = len(image_list)\n",
    "\n",
    "saved_name = ''\n",
    "number_of_people = 0\n",
    "\n",
    "for index, img_name in enumerate(image_list):\n",
    "    if img_name[:4] != saved_name:\n",
    "        saved_name = img_name[:4]\n",
    "        try : os.mkdir(save_path+'/'+saved_name)\n",
    "        except FileExistsError : pass\n",
    "        number_of_people += 1\n",
    "    \n",
    "    if img_name[-6:-4] > \"04\":\n",
    "        continue\n",
    "        \n",
    "    if os.path.isfile(save_path+'/'+saved_name+'/'+img_name):\n",
    "        pass\n",
    "    else :\n",
    "        image = cv2.resize(cv2.imread(dir_path+'/'+img_name,cv2.IMREAD_COLOR),(data_y_size,data_x_size))\n",
    "        cv2.imwrite(save_path+'/'+saved_name+'/'+img_name, image)\n",
    "    \n",
    "print(\"총\",number_of_people,\"명\",list_len,\"장 입니다.\")\n",
    "### -------------------------------------------------- ###"
   ]
  },
  {
   "cell_type": "code",
   "execution_count": 6,
   "metadata": {},
   "outputs": [
    {
     "name": "stdout",
     "output_type": "stream",
     "text": [
      "00\n"
     ]
    }
   ],
   "source": [
    "import os\n",
    "import cv2\n",
    "dir_path = '/home/esdl/tensorflow/cuhk03_release/images/detected'\n",
    "image_list = os.listdir(dir_path)\n",
    "image_list.sort()\n",
    "print(image_list[0][-6:-4])"
   ]
  },
  {
   "cell_type": "code",
   "execution_count": 13,
   "metadata": {},
   "outputs": [
    {
     "data": {
      "text/plain": [
       "False"
      ]
     },
     "execution_count": 13,
     "metadata": {},
     "output_type": "execute_result"
    }
   ],
   "source": [
    "image_list[5][-6:-4] > \"05\""
   ]
  }
 ],
 "metadata": {
  "kernelspec": {
   "display_name": "Python 3",
   "language": "python",
   "name": "python3"
  },
  "language_info": {
   "codemirror_mode": {
    "name": "ipython",
    "version": 3
   },
   "file_extension": ".py",
   "mimetype": "text/x-python",
   "name": "python",
   "nbconvert_exporter": "python",
   "pygments_lexer": "ipython3",
   "version": "3.6.8"
  }
 },
 "nbformat": 4,
 "nbformat_minor": 2
}
